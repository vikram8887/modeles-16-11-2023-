{
 "cells": [
  {
   "cell_type": "markdown",
   "id": "e1765ad4",
   "metadata": {},
   "source": [
    "# Modules"
   ]
  },
  {
   "cell_type": "markdown",
   "id": "c9b44235",
   "metadata": {},
   "source": [
    "* ## Defination:- A Module is a collection of Functions, Global Variable Names and Class Names. "
   ]
  },
  {
   "cell_type": "markdown",
   "id": "f3ab1313",
   "metadata": {},
   "source": [
    "* #### We know that Functions are used for \"Performing Certain Operations and Provides Code Re-Usability within the same Program but not able to provide Code Re-Usability across the programs.\"."
   ]
  },
  {
   "cell_type": "markdown",
   "id": "bd214589",
   "metadata": {},
   "source": [
    "* #### The Purpose of Modules Concept is that \"To Re-use the functions, global variables and Class Names\" from One Program to another Program provided Both The Programs present in Same Folder."
   ]
  },
  {
   "cell_type": "markdown",
   "id": "f1208b93",
   "metadata": {},
   "source": [
    "* #### a module is a file consisting of Python code. It can define functions, classes, and variables, and can also include runnable code. Any Python file can be referenced as a module. A file containing Python code, for example: test.py , is called a module, and its name would be test ."
   ]
  },
  {
   "cell_type": "markdown",
   "id": "31d1e7e2",
   "metadata": {},
   "source": [
    "### Types of Modules:-\n",
    "\n",
    "In python, having two types of modules. They are\n",
    "\n",
    "1.   ### Pre-Defined Modules\n",
    "\n",
    "2.   ### Programmer Or User Or Custom Defined Modules"
   ]
  },
  {
   "cell_type": "markdown",
   "id": "4e037b87",
   "metadata": {},
   "source": [
    "1. ## Pre-Defined Modules:-\n",
    "\n",
    "   * These Modules are already defined by Python Language Developers and available in Python Software and used by all Python Language Programmers and for dealing with Universal Requirements."
   ]
  },
  {
   "cell_type": "markdown",
   "id": "575da298",
   "metadata": {},
   "source": [
    "2. ## Programmer OR User OR Custom Defined Module:-\n",
    "\n",
    "* #### These Moudles are developed by Python Programmers and avilable in Python Project and Used by Other Members of Same Project for dealing with Common Requirements."
   ]
  },
  {
   "cell_type": "markdown",
   "id": "3bffd961",
   "metadata": {},
   "source": [
    "#### Development of Programmer-Defined Module:-\n",
    "\n",
    "##### To develop Programmer-Defined Modules, we must use the following steps\n",
    "\n",
    "* ##### Step-1: Define Variables (Global variables)\n",
    "* ##### Step-2: Define Functions\n",
    "* ##### Step-3: Define Classes\n",
    "* ##### After developing step-1, step-2 and step-3 , we must save on some file name with an extension .py (FileName.py) and it is treated as module name.\n",
    "\n",
    "* ##### Hence Every Python File is treated as Module Name.\n",
    "\n",
    "* ##### When a file name treated as a module name , internally Python execution environment creates a folder automatically on the name of pycache and it contains module name on the name of \"filename.cpython-311.pyc \"."
   ]
  },
  {
   "cell_type": "markdown",
   "id": "36a00a90",
   "metadata": {},
   "source": [
    "## using Alias:-\n",
    "\n",
    "##### An alias is essentially an alternate name for a module, function, or class.\n",
    "\n",
    "##### It allows you to refer to the original module, function, or class by a different name.\n",
    "\n",
    "##### This can be useful for several reasons, such as shortening long module names, avoiding naming conflicts, or enhancing code readability."
   ]
  },
  {
   "cell_type": "code",
   "execution_count": null,
   "id": "a27e47ae",
   "metadata": {},
   "outputs": [],
   "source": []
  },
  {
   "cell_type": "code",
   "execution_count": null,
   "id": "bf535dec",
   "metadata": {},
   "outputs": [],
   "source": []
  },
  {
   "cell_type": "code",
   "execution_count": null,
   "id": "fddabf4e",
   "metadata": {},
   "outputs": [],
   "source": []
  }
 ],
 "metadata": {
  "kernelspec": {
   "display_name": "Python 3 (ipykernel)",
   "language": "python",
   "name": "python3"
  },
  "language_info": {
   "codemirror_mode": {
    "name": "ipython",
    "version": 3
   },
   "file_extension": ".py",
   "mimetype": "text/x-python",
   "name": "python",
   "nbconvert_exporter": "python",
   "pygments_lexer": "ipython3",
   "version": "3.11.5"
  }
 },
 "nbformat": 4,
 "nbformat_minor": 5
}
